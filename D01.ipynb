import numpy as np

#1.生成一個等差數列，首數為0，尾數為20，公差為1的數列。
a = np.arange(0,21,1)
print(a)

#2.呈上題，將以上數列取出偶數。
b = a[0:21:2]
print(b)

#3.呈1題，將數列取出3的倍數。
#方法1.
for x in a:
    if x % 3 == 0:
     print (x)

#方法2.
c = a[0:21:3]
print(c)
